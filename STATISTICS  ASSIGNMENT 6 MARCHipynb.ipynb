{
 "cells": [
  {
   "cell_type": "markdown",
   "id": "d0748f14-ca81-4d40-b243-0c612d81012f",
   "metadata": {},
   "source": [
    "Q1: WHAT IS STATISTICS?\n",
    "STATISTICS IS THE BRANCH OF SCIENCE IN WHICH WE COLLECT,ORGANIZE AND ANALYZE DATA.\n",
    "Q2:DEFINE DIFFERENT TYPES OF STATISTICS AND GIVE AN EXAMPLE OF WHEN EACH TYPE MIGHT BE USED?\n",
    "THERE ARE MAINLY TWO TYPES OF STATISTICS \n",
    "(a) DESCRIPTIVE STATISTICS\n",
    "(b) INFERENTIAL STATISTICS\n",
    "IN DESCRIPTIVE STATISTICS WE GENERALLY EVALUATE DESRPTION ABOUT DATA LIKE MEAN ,MEDIAN,MODE.\n",
    "EXAMPLE : AVG RUNS BY VIRAT KOHLI IN TEST MATCH IS 76.98\n",
    "IN INFERENTIAL STATISTICS WE CONCLUDE OUTCOMES OF POPULATION DATA FROM SAMPLE DATA.\n",
    "EXAMPLE:PROBABLY,INDIA WILL WIN TEST MATCH BETWEEN INDIA AND NEWZEALAND ..\n",
    "Q3: WHAT ARE DIFFERNT TYPES OF DATA AND HOW DO THEY DIFFER FROM EACH OTHER .PROVIDE AN EXAMPLE?\n",
    "\n",
    "QUANTIVE DATA :THE DATA WHICH ARE QUANTITAIVE IN NATURE AND WE CAN PERFORM MATHEMATICAL OPERATIONS ON IT.\n",
    "EXAMPLE:HEIGHT,WEIGHT,AGE,DISTANCE ETC\n",
    "QUALITATIVE DATA: THE DATA WHICH ARE COMPARABLE BUT WE CANT PERFORM MATHEMATICAL OPERATIONS ON IT.\n",
    "EXAMPLE:COLOUR,GENDER,NAME,PINCODE ETC.\n",
    "\n",
    "Q4:(i) qualitative\n",
    "   (ii) qualitative\n",
    "   (iii) quantitative\n",
    "   (iv) quantitative\n",
    "   \n",
    "Q5:THERE ARE FOUR LEVELS OF MEASUREMENT\n",
    "(i) nominal scale of measurement\n",
    "(ii) ordinal scale of measurement\n",
    "(iii) interval scale of measurement\n",
    "(iv) ratio scale of measurement\n",
    "IN nominal scale ,order of data does not matter and we cant perform any operations .\n",
    "example: name,colour,mobileno.,book etc.\n",
    "IN ordinal scale ,order of data matter and we arrange them through ranking\n",
    "example: ranking of customer review of food in a resturant rank1 for good ,rank2 for average and rank3 for bad.\n",
    "In interval scale,there is no concepts like comparing two variable but we can compute differnce between two variable and only addition and subtraction opertion perform on it.absolute zero is not possible in interval scale.ex: temprature in faraheneit scale.\n",
    "In ratio scale,we can perform addition ,subtraction,multiplication and division operations and absolute zero also possible and we can compare ratio of two variables.\n",
    "example: marks in examination,temprature in kelvin scale etc.\n",
    "\n",
    "Q6:It is important to measure data in different scale bacause we can compare it reach at valid outcome ..all data can't be of same datatype so in terms of visulaization we cant point out what is going on with data..\n",
    "\n",
    "q7:NOMOINAL SCALE OF DATA ARE DIIFERNT FROM ORDINAL SCALE IN MANY ASPECTS.\n",
    "In nominal scale we cant compare datasets but in ordinal we can do it.\n",
    "IN NIOMINAL SCALE WE CANT ORDER THEM BUT IN ORDINAL WE CAN DO THAT THING.\n",
    "NOMINAL SCALE REFERS TO NAME ONLY BUT ORDINAL SCALE REFERS NAME WITH ORDER OF DATA.\n",
    "NOMINAL SCALE:EXAMPLE COLOUR,HAIR,PINCODE.\n",
    "ORDINAL SCALE:EXAMPLE:GOOD,AVG,BAD.\n",
    "\n",
    "Q8:HISTOGRAM\n",
    "\n",
    "Q9: IN DESCRPTIVE STATISTICS, WE CAN ONLY SAYS ABOUT DESCRIPTION AND SUMMARIZATION OF DATA. EXAMPLE : IN GIVEN DATA WE CAN COMPUTE MEAN ,MODE LIKE THING ..\n",
    "IN INFERENTIAL STATISTICS ,WE CAN INFER SOMETHING ABOUT DATA THROUGH SAMPLE OF DATA.\n",
    "EXAMPLE: PROBABLY,THERE IS CHANCE THAT TOMMOROW MIGHT BE HEAVY RAIN\n",
    "\n",
    "Q10:COMMON MEASURE OF CENTRAL TENDENCY ARE MEAN,MODE,MEDIAN.\n",
    "COMMON MEASURE OF VARIABILITY ARE VARIANCE,STANDARD DEVIATION,INTERQUARTILE RANGE.\n",
    "measure of central tendency use to calculate how data behaves at central value but in variability shows how data are scatttered from its central value..\n"
   ]
  }
 ],
 "metadata": {
  "kernelspec": {
   "display_name": "Python 3 (ipykernel)",
   "language": "python",
   "name": "python3"
  },
  "language_info": {
   "codemirror_mode": {
    "name": "ipython",
    "version": 3
   },
   "file_extension": ".py",
   "mimetype": "text/x-python",
   "name": "python",
   "nbconvert_exporter": "python",
   "pygments_lexer": "ipython3",
   "version": "3.10.6"
  }
 },
 "nbformat": 4,
 "nbformat_minor": 5
}
